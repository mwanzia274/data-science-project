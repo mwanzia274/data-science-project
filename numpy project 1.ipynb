{
 "cells": [
  {
   "cell_type": "code",
   "execution_count": 1,
   "id": "71a3d66c",
   "metadata": {},
   "outputs": [
    {
     "name": "stdout",
     "output_type": "stream",
     "text": [
      "[1 2 3 4 5]\n"
     ]
    }
   ],
   "source": [
    "import numpy\n",
    "array= numpy.array([1,2,3,4,5])\n",
    "print(array)"
   ]
  },
  {
   "cell_type": "code",
   "execution_count": 2,
   "id": "e996f4ef",
   "metadata": {},
   "outputs": [
    {
     "name": "stdout",
     "output_type": "stream",
     "text": [
      "[1 2 3 4 5]\n"
     ]
    }
   ],
   "source": [
    "import numpy\n",
    "array= numpy.array([1,2,3,4,5])\n",
    "print(array)"
   ]
  },
  {
   "cell_type": "code",
   "execution_count": 5,
   "id": "9a0c0315",
   "metadata": {},
   "outputs": [
    {
     "name": "stdout",
     "output_type": "stream",
     "text": [
      "1D Array: [1 2 3 4 5]\n",
      "2D Array: [[1 2 3]\n",
      " [4 5 6]]\n",
      "Zeros Array:\n",
      "[[0. 0. 0. 0.]\n",
      " [0. 0. 0. 0.]\n",
      " [0. 0. 0. 0.]]\n",
      "Ones Array:\n",
      "[[1. 1.]\n",
      " [1. 1.]]\n",
      "Identity Matrix:\n",
      "[[1. 0. 0.]\n",
      " [0. 1. 0.]\n",
      " [0. 0. 1.]]\n",
      "Result of Element-wise Addition: [11 12 13 14 15]\n",
      "Result of Element-wise Multiplication: [ 2  4  6  8 10]\n",
      "Result of Element-wise Square Root: [1.         1.41421356 1.73205081 2.         2.23606798]\n",
      "Result of Matrix Multiplication (dot product): [12 30]\n",
      "Result of Element-wise Comparison (arr_1d > 3): [False False False  True  True]\n",
      "Accessed Element (arr_1d[2]): 3\n",
      "Sliced Array (arr_1d[1:4]): [2 3 4]\n",
      "Accessed Value (arr_2d[1, 2]): 6\n",
      "Sliced Matrix (arr_2d[:, 1:3]):\n",
      "[[2 3]\n",
      " [5 6]]\n",
      "Mean of arr_1d: 3.0\n",
      "Sum of arr_1d: 15\n",
      "Maximum Value in arr_1d: 5\n",
      "Index of Minimum Value in arr_1d: 0\n",
      "Reshaped Array (5x1):\n",
      "[[1]\n",
      " [2]\n",
      " [3]\n",
      " [4]\n",
      " [5]]\n",
      "Flattened 2D Array:\n",
      "[1 2 3 4 5 6]\n",
      "Random Numbers (3x3):\n",
      "[[0.80636943 0.19555589 0.64034778]\n",
      " [0.69651248 0.82747907 0.06985091]\n",
      " [0.4224718  0.77388892 0.26761704]]\n",
      "Random Integers (2x2):\n",
      "[[1 3]\n",
      " [1 1]]\n"
     ]
    }
   ],
   "source": [
    "import numpy as np\n",
    "\n",
    "# Creating NumPy Arrays\n",
    "arr_1d = np.array([1, 2, 3, 4, 5])\n",
    "arr_2d = np.array([[1, 2, 3], [4, 5, 6]])\n",
    "zeros = np.zeros((3, 4))\n",
    "ones = np.ones((2, 2))\n",
    "identity_matrix = np.eye(3)\n",
    "\n",
    "# Array Operations\n",
    "result_add = arr_1d + 10\n",
    "result_multiply = arr_1d * 2\n",
    "result_sqrt = np.sqrt(arr_1d)\n",
    "result_dot_product = np.dot(arr_2d, np.array([2, 2, 2]))\n",
    "result_comparison = arr_1d > 3\n",
    "\n",
    "# Array Indexing and Slicing\n",
    "element = arr_1d[2]\n",
    "sub_array = arr_1d[1:4]\n",
    "value = arr_2d[1, 2]\n",
    "sub_matrix = arr_2d[:, 1:3]\n",
    "\n",
    "# Array Aggregation and Statistics\n",
    "mean = np.mean(arr_1d)\n",
    "total = np.sum(arr_1d)\n",
    "max_value = np.max(arr_1d)\n",
    "min_index = np.argmin(arr_1d)\n",
    "\n",
    "# Reshaping Arrays\n",
    "reshaped = arr_1d.reshape((5, 1))  # Reshape to a compatible shape\n",
    "flattened = arr_2d.flatten()\n",
    "\n",
    "# Random Number Generation\n",
    "random_numbers = np.random.rand(3, 3)\n",
    "random_integers = np.random.randint(1, 10, size=(2, 2))\n",
    "\n",
    "# Printing results\n",
    "print(\"1D Array:\", arr_1d)\n",
    "print(\"2D Array:\", arr_2d)\n",
    "print(\"Zeros Array:\")\n",
    "print(zeros)\n",
    "print(\"Ones Array:\")\n",
    "print(ones)\n",
    "print(\"Identity Matrix:\")\n",
    "print(identity_matrix)\n",
    "\n",
    "print(\"Result of Element-wise Addition:\", result_add)\n",
    "print(\"Result of Element-wise Multiplication:\", result_multiply)\n",
    "print(\"Result of Element-wise Square Root:\", result_sqrt)\n",
    "print(\"Result of Matrix Multiplication (dot product):\", result_dot_product)\n",
    "print(\"Result of Element-wise Comparison (arr_1d > 3):\", result_comparison)\n",
    "\n",
    "print(\"Accessed Element (arr_1d[2]):\", element)\n",
    "print(\"Sliced Array (arr_1d[1:4]):\", sub_array)\n",
    "print(\"Accessed Value (arr_2d[1, 2]):\", value)\n",
    "print(\"Sliced Matrix (arr_2d[:, 1:3]):\")\n",
    "print(sub_matrix)\n",
    "\n",
    "print(\"Mean of arr_1d:\", mean)\n",
    "print(\"Sum of arr_1d:\", total)\n",
    "print(\"Maximum Value in arr_1d:\", max_value)\n",
    "print(\"Index of Minimum Value in arr_1d:\", min_index)\n",
    "\n",
    "print(\"Reshaped Array (5x1):\")\n",
    "print(reshaped)\n",
    "print(\"Flattened 2D Array:\")\n",
    "print(flattened)\n",
    "\n",
    "print(\"Random Numbers (3x3):\")\n",
    "print(random_numbers)\n",
    "print(\"Random Integers (2x2):\")\n",
    "print(random_integers)\n"
   ]
  },
  {
   "cell_type": "code",
   "execution_count": 7,
   "id": "2cb8c404",
   "metadata": {},
   "outputs": [
    {
     "name": "stdout",
     "output_type": "stream",
     "text": [
      "[[1 2 3]\n",
      " [4 5 6]]\n"
     ]
    }
   ],
   "source": [
    "import numpy as np\n",
    "\n",
    "arr = np.array([[1, 2, 3], [4, 5, 6]])\n",
    "\n",
    "print(arr)"
   ]
  },
  {
   "cell_type": "code",
   "execution_count": 8,
   "id": "997e90d0",
   "metadata": {},
   "outputs": [
    {
     "name": "stdout",
     "output_type": "stream",
     "text": [
      "(2, 4)\n"
     ]
    }
   ],
   "source": [
    "import numpy as np\n",
    "\n",
    "arr = np.array([[1, 2, 3, 4], [5, 6, 7, 8]])\n",
    "\n",
    "print(arr.shape)"
   ]
  },
  {
   "cell_type": "code",
   "execution_count": 9,
   "id": "bc6c25c0",
   "metadata": {},
   "outputs": [
    {
     "name": "stdout",
     "output_type": "stream",
     "text": [
      "Intercept (beta0): 1.0\n",
      "Slope (beta1): 1.0\n",
      "Predicted Y values: [2. 3. 4. 5. 6.]\n"
     ]
    }
   ],
   "source": [
    "import numpy as np\n",
    "\n",
    "# Sample data\n",
    "X = np.array([1, 2, 3, 4, 5])\n",
    "Y = np.array([2, 3, 4, 5, 6])\n",
    "\n",
    "# Calculate the mean of X and Y\n",
    "mean_X = np.mean(X)\n",
    "mean_Y = np.mean(Y)\n",
    "\n",
    "# Calculate the differences between data points and the means\n",
    "diff_X = X - mean_X\n",
    "diff_Y = Y - mean_Y\n",
    "\n",
    "# Calculate the slope (beta1) and intercept (beta0)\n",
    "beta1 = np.sum(diff_X * diff_Y) / np.sum(diff_X ** 2)\n",
    "beta0 = mean_Y - (beta1 * mean_X)\n",
    "\n",
    "# Predict Y values using the linear regression model\n",
    "Y_pred = beta0 + beta1 * X\n",
    "\n",
    "# Print the regression coefficients\n",
    "print(\"Intercept (beta0):\", beta0)\n",
    "print(\"Slope (beta1):\", beta1)\n",
    "\n",
    "# Predicted values\n",
    "print(\"Predicted Y values:\", Y_pred)\n"
   ]
  },
  {
   "cell_type": "code",
   "execution_count": 10,
   "id": "1028e76b",
   "metadata": {},
   "outputs": [
    {
     "name": "stdout",
     "output_type": "stream",
     "text": [
      "[1 2 3 4 5 6]\n"
     ]
    }
   ],
   "source": [
    "import numpy as np\n",
    "\n",
    "arr1 = np.array([1, 2, 3])\n",
    "\n",
    "arr2 = np.array([4, 5, 6])\n",
    "\n",
    "arr = np.concatenate((arr1, arr2))\n",
    "\n",
    "print(arr)"
   ]
  },
  {
   "cell_type": "code",
   "execution_count": 11,
   "id": "212e9df6",
   "metadata": {},
   "outputs": [
    {
     "name": "stdout",
     "output_type": "stream",
     "text": [
      "(array([3, 5, 6], dtype=int64),)\n"
     ]
    }
   ],
   "source": [
    "import numpy as np\n",
    "\n",
    "arr = np.array([1, 2, 3, 4, 5, 4, 4])\n",
    "\n",
    "x = np.where(arr == 4)\n",
    "\n",
    "print(x)"
   ]
  },
  {
   "cell_type": "code",
   "execution_count": 12,
   "id": "b47b6f03",
   "metadata": {},
   "outputs": [
    {
     "name": "stdout",
     "output_type": "stream",
     "text": [
      "48\n"
     ]
    }
   ],
   "source": [
    "from numpy import random\n",
    "\n",
    "x = random.randint(100)\n",
    "\n",
    "print(x)"
   ]
  },
  {
   "cell_type": "code",
   "execution_count": 13,
   "id": "b815b580",
   "metadata": {},
   "outputs": [
    {
     "name": "stdout",
     "output_type": "stream",
     "text": [
      "[84 30 13 41  8]\n"
     ]
    }
   ],
   "source": [
    "from numpy import random\n",
    "\n",
    "x=random.randint(100, size=(5))\n",
    "\n",
    "print(x)"
   ]
  },
  {
   "cell_type": "code",
   "execution_count": 14,
   "id": "bd1e0e76",
   "metadata": {},
   "outputs": [
    {
     "name": "stdout",
     "output_type": "stream",
     "text": [
      "[5 7 5 5 7 7 5 3 7 7 3 5 7 3 7 7 5 5 7 3 5 5 7 5 3 5 7 5 5 7 5 7 5 7 5 3 3\n",
      " 7 7 5 7 7 3 5 7 5 7 5 3 7 5 7 7 5 5 7 7 7 7 7 5 3 7 5 7 7 5 7 7 7 7 7 7 7\n",
      " 3 5 5 7 7 7 7 5 5 5 7 7 5 5 7 5 7 3 7 5 7 7 7 3 7 7]\n"
     ]
    }
   ],
   "source": [
    "from numpy import random\n",
    "\n",
    "x = random.choice([3, 5, 7, 9], p=[0.1, 0.3, 0.6, 0.0], size=(100))\n",
    "\n",
    "print(x)"
   ]
  },
  {
   "cell_type": "code",
   "execution_count": 15,
   "id": "39fc5659",
   "metadata": {},
   "outputs": [
    {
     "name": "stdout",
     "output_type": "stream",
     "text": [
      "[[7 5 7 7 7]\n",
      " [5 7 7 7 7]\n",
      " [5 7 7 7 5]]\n"
     ]
    }
   ],
   "source": [
    "from numpy import random\n",
    "\n",
    "x = random.choice([3, 5, 7, 9], p=[0.1, 0.3, 0.6, 0.0], size=(3, 5))\n",
    "\n",
    "print(x)"
   ]
  },
  {
   "cell_type": "code",
   "execution_count": null,
   "id": "eac01536",
   "metadata": {},
   "outputs": [],
   "source": []
  }
 ],
 "metadata": {
  "kernelspec": {
   "display_name": "Python 3 (ipykernel)",
   "language": "python",
   "name": "python3"
  },
  "language_info": {
   "codemirror_mode": {
    "name": "ipython",
    "version": 3
   },
   "file_extension": ".py",
   "mimetype": "text/x-python",
   "name": "python",
   "nbconvert_exporter": "python",
   "pygments_lexer": "ipython3",
   "version": "3.11.4"
  }
 },
 "nbformat": 4,
 "nbformat_minor": 5
}
